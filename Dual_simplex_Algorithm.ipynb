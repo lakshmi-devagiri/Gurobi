{
  "nbformat": 4,
  "nbformat_minor": 0,
  "metadata": {
    "colab": {
      "provenance": [],
      "authorship_tag": "ABX9TyMBKM3Qa7iENzbM9Shf1bep",
      "include_colab_link": true
    },
    "kernelspec": {
      "name": "python3",
      "display_name": "Python 3"
    },
    "language_info": {
      "name": "python"
    }
  },
  "cells": [
    {
      "cell_type": "markdown",
      "metadata": {
        "id": "view-in-github",
        "colab_type": "text"
      },
      "source": [
        "<a href=\"https://colab.research.google.com/github/lakshmi-devagiri/Gurobi/blob/main/Dual_simplex_Algorithm.ipynb\" target=\"_parent\"><img src=\"https://colab.research.google.com/assets/colab-badge.svg\" alt=\"Open In Colab\"/></a>"
      ]
    },
    {
      "cell_type": "markdown",
      "source": [
        "Dual_Simplex_algotithm\n",
        "________________________\n",
        "Dual Simplex algorithm  is  a variation of the simplex method used when the solutions is optimal but infeasible (The Objective function in the last row are non-negative, But atleast one RHS value is negative).\n"
      ],
      "metadata": {
        "id": "Y1-zqOlIIZ8x"
      }
    },
    {
      "cell_type": "markdown",
      "source": [
        "We will maximize the objective function:\n",
        "\n",
        "Maximize Z=3x+5y\n",
        "\n",
        "Subject to constraints:\n",
        "\n",
        "2x+y≤10\n",
        "\n",
        "x+3y≤12\n",
        "\n",
        "x,y≥0\n",
        "\n"
      ],
      "metadata": {
        "id": "c_UocrN1PCtA"
      }
    },
    {
      "cell_type": "code",
      "source": [
        "!pip install gurobipy"
      ],
      "metadata": {
        "colab": {
          "base_uri": "https://localhost:8080/"
        },
        "id": "i4H95ZIOPrbZ",
        "outputId": "a36adfab-eaad-4b99-8fa7-f09cf583dbf8"
      },
      "execution_count": 2,
      "outputs": [
        {
          "output_type": "stream",
          "name": "stdout",
          "text": [
            "Collecting gurobipy\n",
            "  Downloading gurobipy-12.0.1-cp311-cp311-manylinux2014_x86_64.manylinux_2_17_x86_64.whl.metadata (16 kB)\n",
            "Downloading gurobipy-12.0.1-cp311-cp311-manylinux2014_x86_64.manylinux_2_17_x86_64.whl (14.4 MB)\n",
            "\u001b[2K   \u001b[90m━━━━━━━━━━━━━━━━━━━━━━━━━━━━━━━━━━━━━━━━\u001b[0m \u001b[32m14.4/14.4 MB\u001b[0m \u001b[31m41.5 MB/s\u001b[0m eta \u001b[36m0:00:00\u001b[0m\n",
            "\u001b[?25hInstalling collected packages: gurobipy\n",
            "Successfully installed gurobipy-12.0.1\n"
          ]
        }
      ]
    },
    {
      "cell_type": "code",
      "source": [
        "import gurobipy as gp\n",
        "from gurobipy import GRB\n",
        "\n",
        "# Create a new model\n",
        "model = gp.Model()\n",
        "\n",
        "# Set the solver to use Dual Simplex\n",
        "model.setParam(\"Method\", 1)\n",
        "\n",
        "# 1 = Dual Simplex\n",
        "# Using Primal Simplex (Method = 0)\n",
        "#Using Dual Simplex (Method = 1)\n",
        "#Automatic Mode (Method = -1)\n",
        "#Gurobi selects the best method based on problem size and structure.\n",
        "#If unsure, you can use this and let Gurobi decide.\n",
        "\n",
        "\n",
        "# Add variables\n",
        "x = model.addVar(lb=0, name=\"x\")\n",
        "y = model.addVar(lb=0, name=\"y\")\n",
        "\n",
        "# Set the objective function (maximize 3x + 5y)\n",
        "model.setObjective(3*x + 5*y, GRB.MAXIMIZE)\n",
        "\n",
        "# Add constraints\n",
        "model.addConstr(2*x + y <= 10, \"Constraint_1\")\n",
        "model.addConstr(x + 3*y <= 12, \"Constraint_2\")\n",
        "\n",
        "# Optimize using Dual Simplex\n",
        "model.optimize()\n",
        "\n",
        "# Display results\n",
        "if model.status == GRB.OPTIMAL:\n",
        "    print(f\"Optimal Solution: x = {x.x}, y = {y.x}\")\n",
        "    print(f\"Optimal Objective Value: {model.objVal}\")\n",
        "else:\n",
        "    print(\"No optimal solution found.\")\n"
      ],
      "metadata": {
        "colab": {
          "base_uri": "https://localhost:8080/"
        },
        "id": "9zkPCdfpJn4K",
        "outputId": "91d0e9c5-bcb3-47f1-9de3-6b7dcf62b077"
      },
      "execution_count": 4,
      "outputs": [
        {
          "output_type": "stream",
          "name": "stdout",
          "text": [
            "Set parameter Method to value 1\n",
            "Gurobi Optimizer version 12.0.1 build v12.0.1rc0 (linux64 - \"Ubuntu 22.04.4 LTS\")\n",
            "\n",
            "CPU model: Intel(R) Xeon(R) CPU @ 2.20GHz, instruction set [SSE2|AVX|AVX2]\n",
            "Thread count: 1 physical cores, 2 logical processors, using up to 2 threads\n",
            "\n",
            "Non-default parameters:\n",
            "Method  1\n",
            "\n",
            "Optimize a model with 2 rows, 2 columns and 4 nonzeros\n",
            "Model fingerprint: 0xf35f4c1f\n",
            "Coefficient statistics:\n",
            "  Matrix range     [1e+00, 3e+00]\n",
            "  Objective range  [3e+00, 5e+00]\n",
            "  Bounds range     [0e+00, 0e+00]\n",
            "  RHS range        [1e+01, 1e+01]\n",
            "Presolve time: 0.01s\n",
            "Presolved: 2 rows, 2 columns, 4 nonzeros\n",
            "\n",
            "Iteration    Objective       Primal Inf.    Dual Inf.      Time\n",
            "       0    8.0000000e+30   2.500000e+30   8.000000e+00      0s\n",
            "       2    2.4800000e+01   0.000000e+00   0.000000e+00      0s\n",
            "\n",
            "Solved in 2 iterations and 0.01 seconds (0.00 work units)\n",
            "Optimal objective  2.480000000e+01\n",
            "Optimal Solution: x = 3.6, y = 2.8\n",
            "Optimal Objective Value: 24.8\n"
          ]
        }
      ]
    },
    {
      "cell_type": "code",
      "source": [],
      "metadata": {
        "id": "ZlChbd1wPnyX"
      },
      "execution_count": null,
      "outputs": []
    }
  ]
}