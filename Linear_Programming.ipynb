{
  "nbformat": 4,
  "nbformat_minor": 0,
  "metadata": {
    "colab": {
      "provenance": [],
      "authorship_tag": "ABX9TyMcxe6FC97ZzAL6OlTpilKh",
      "include_colab_link": true
    },
    "kernelspec": {
      "name": "python3",
      "display_name": "Python 3"
    },
    "language_info": {
      "name": "python"
    }
  },
  "cells": [
    {
      "cell_type": "markdown",
      "metadata": {
        "id": "view-in-github",
        "colab_type": "text"
      },
      "source": [
        "<a href=\"https://colab.research.google.com/github/lakshmi-devagiri/Gurobi/blob/main/Linear_Programming.ipynb\" target=\"_parent\"><img src=\"https://colab.research.google.com/assets/colab-badge.svg\" alt=\"Open In Colab\"/></a>"
      ]
    },
    {
      "cell_type": "markdown",
      "source": [
        "You are managing a factory that produces two types of products, Product A and Product B. You want to maximize the total profit, subject to resource and production constraints.\n",
        "\n",
        "Profit per unit:\n",
        "\n",
        "The profit from each unit of Product A is $3.\n",
        "\n",
        "The profit from each unit of Product B is $4.\n",
        "\n",
        "Resource usage:\n",
        "\n",
        "Each unit of Product A requires 2 units of Resource X.\n",
        "Each unit of Product B requires 3 units of Resource X.\n",
        "There are a total of 10 units of Resource X available.\n",
        "\n",
        "Production constraints:\n",
        "You cannot produce a negative amount of products, i.e., 𝑥 1 ≥ 0 x 1 ​ ≥0 and 𝑥 2 ≥ 0 x 2 ​ ≥0, where: 𝑥 1 x 1 ​ is the number of units of Product A produced. 𝑥 2 x 2 ​ is the number of units of Product B produced.\n",
        "\n",
        "Resource constraint:\n",
        "The total amount of Resource X used cannot exceed the available resource, so the constraint is: 2 𝑥 1 + 3 𝑥 2 ≤ 10 2x 1 ​ +3x 2 ​ ≤10 where: 𝑥 1 x 1 ​ is the number of units of Product A. 𝑥 2 x 2 ​ is the number of units of Product B.\n",
        "\n",
        "Objective: You need to maximize the total profit, which is given by: Profit = 3 𝑥 1 + 4 𝑥 2 Profit=3x 1 ​ +4x 2 ​ where: 𝑥 1 x 1 ​ is the number of units of Product A produced. 𝑥 2 x 2 ​ is the number of units of Product B produced.\n"
      ],
      "metadata": {
        "id": "fJnvbnUiOrkw"
      }
    },
    {
      "cell_type": "code",
      "source": [
        "!pip install gurobipy"
      ],
      "metadata": {
        "colab": {
          "base_uri": "https://localhost:8080/"
        },
        "id": "oLjlxmJhIWCU",
        "outputId": "fe45090c-24f4-498e-e6d7-b5fd9e699891"
      },
      "execution_count": 14,
      "outputs": [
        {
          "output_type": "stream",
          "name": "stdout",
          "text": [
            "Requirement already satisfied: gurobipy in /usr/local/lib/python3.11/dist-packages (12.0.1)\n"
          ]
        }
      ]
    },
    {
      "cell_type": "code",
      "source": [
        "import gurobipy as gp\n",
        "from gurobipy import GRB\n",
        "\n",
        "# Create a new model\n",
        "model = gp.Model(\"simple_lp\")\n",
        "\n",
        "# Add variables\n",
        "x1 = model.addVar(name=\"x1\", lb=0)  # Product A\n",
        "x2 = model.addVar(name=\"x2\", lb=0)  # Product B\n",
        "\n",
        "# Set objective: Maximize profit (3x1 + 4x2)\n",
        "model.setObjective(3*x1 + 4*x2, GRB.MAXIMIZE)\n",
        "\n",
        "# Add constraint: 2x1 + 3x2 <= 10 (Resource constraint)\n",
        "model.addConstr(2*x1 + 3*x2 <= 10, \"Resource\")\n",
        "\n",
        "# Optimize the model\n",
        "model.optimize()\n",
        "\n",
        "# Print the results\n",
        "if model.status == GRB.OPTIMAL:\n",
        "    print(f\"Optimal solution found:\")\n",
        "    print(f\"x1 (Product A) = {x1.x}\")#.x is the attribute that holds the optimal solution for the decision variable.\n",
        "    print(f\"x2 (Product B) = {x2.x}\")\n",
        "    print(f\"Maximum Profit = {model.objVal}\")\n",
        "else:\n",
        "    print(\"No optimal solution found.\")"
      ],
      "metadata": {
        "colab": {
          "base_uri": "https://localhost:8080/"
        },
        "id": "3iN2yLJDSkEU",
        "outputId": "f70f8b56-a16e-4896-c6f4-8f0457592b69"
      },
      "execution_count": 15,
      "outputs": [
        {
          "output_type": "stream",
          "name": "stdout",
          "text": [
            "Gurobi Optimizer version 12.0.1 build v12.0.1rc0 (linux64 - \"Ubuntu 22.04.4 LTS\")\n",
            "\n",
            "CPU model: Intel(R) Xeon(R) CPU @ 2.20GHz, instruction set [SSE2|AVX|AVX2]\n",
            "Thread count: 1 physical cores, 2 logical processors, using up to 2 threads\n",
            "\n",
            "Optimize a model with 1 rows, 2 columns and 2 nonzeros\n",
            "Model fingerprint: 0xc426cf0b\n",
            "Coefficient statistics:\n",
            "  Matrix range     [2e+00, 3e+00]\n",
            "  Objective range  [3e+00, 4e+00]\n",
            "  Bounds range     [0e+00, 0e+00]\n",
            "  RHS range        [1e+01, 1e+01]\n",
            "Presolve removed 1 rows and 2 columns\n",
            "Presolve time: 0.01s\n",
            "Presolve: All rows and columns removed\n",
            "Iteration    Objective       Primal Inf.    Dual Inf.      Time\n",
            "       0    1.5000000e+01   0.000000e+00   0.000000e+00      0s\n",
            "\n",
            "Solved in 0 iterations and 0.01 seconds (0.00 work units)\n",
            "Optimal objective  1.500000000e+01\n",
            "Optimal solution found:\n",
            "x1 (Product A) = 5.0\n",
            "x2 (Product B) = 0.0\n",
            "Maximum Profit = 15.0\n"
          ]
        }
      ]
    },
    {
      "cell_type": "markdown",
      "source": [
        "The solver has determined that the best use of the available resource is to allocate all 10 units of Resource X to Product A (i.e., produce 5 units of Product A), as this gives the maximum profit of $15. No resources should be allocated to Product B, because producing Product A alone maximizes the profit."
      ],
      "metadata": {
        "id": "OUWyxTxGiSnd"
      }
    },
    {
      "cell_type": "code",
      "source": [],
      "metadata": {
        "id": "N729VkZJiWOb"
      },
      "execution_count": null,
      "outputs": []
    }
  ]
}