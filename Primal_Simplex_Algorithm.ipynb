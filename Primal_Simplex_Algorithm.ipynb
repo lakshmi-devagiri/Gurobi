{
  "nbformat": 4,
  "nbformat_minor": 0,
  "metadata": {
    "colab": {
      "provenance": [],
      "authorship_tag": "ABX9TyNLgnN+jS4FlxxqgoBCqvhn",
      "include_colab_link": true
    },
    "kernelspec": {
      "name": "python3",
      "display_name": "Python 3"
    },
    "language_info": {
      "name": "python"
    }
  },
  "cells": [
    {
      "cell_type": "markdown",
      "metadata": {
        "id": "view-in-github",
        "colab_type": "text"
      },
      "source": [
        "<a href=\"https://colab.research.google.com/github/lakshmi-devagiri/Gurobi/blob/main/Primal_Simplex_Algorithm.ipynb\" target=\"_parent\"><img src=\"https://colab.research.google.com/assets/colab-badge.svg\" alt=\"Open In Colab\"/></a>"
      ]
    },
    {
      "cell_type": "markdown",
      "source": [
        "Maximize:\n",
        "\n",
        " 𝑍 = 3 𝑥 1 + 5 𝑥 2\n",
        "\n",
        " Z=3x 1 ​ +5x 2 ​\n",
        "\n",
        " Subject to Constraints:\n",
        "\n",
        " 𝑥 1 + 2 𝑥 2 ≤ 4\n",
        "\n",
        " 3 𝑥 1 + 2 𝑥 2 ≤ 6\n",
        "\n",
        " 𝑥 1 , 𝑥 2 ≥ 0"
      ],
      "metadata": {
        "id": "3WSddc6hFOxB"
      }
    },
    {
      "cell_type": "markdown",
      "source": [
        "\n",
        "Simplex Algorithm:\n",
        "__________________\n",
        "\n",
        "\n",
        "Starts with Feasible Solution and find the optimal one\n",
        "\n",
        "Uses In maximization Or Minimization problem with <= constraits\n",
        "\n",
        "Most useful when all intial constraits are satisfied"
      ],
      "metadata": {
        "id": "zcZld_7XG8qj"
      }
    },
    {
      "cell_type": "code",
      "source": [
        "!pip install gurobipy"
      ],
      "metadata": {
        "colab": {
          "base_uri": "https://localhost:8080/"
        },
        "id": "HA20V7KrEsNs",
        "outputId": "682932d9-7d35-4486-c888-089892d5d232"
      },
      "execution_count": 1,
      "outputs": [
        {
          "output_type": "stream",
          "name": "stdout",
          "text": [
            "Collecting gurobipy\n",
            "  Downloading gurobipy-12.0.1-cp311-cp311-manylinux2014_x86_64.manylinux_2_17_x86_64.whl.metadata (16 kB)\n",
            "Downloading gurobipy-12.0.1-cp311-cp311-manylinux2014_x86_64.manylinux_2_17_x86_64.whl (14.4 MB)\n",
            "\u001b[2K   \u001b[90m━━━━━━━━━━━━━━━━━━━━━━━━━━━━━━━━━━━━━━━━\u001b[0m \u001b[32m14.4/14.4 MB\u001b[0m \u001b[31m43.6 MB/s\u001b[0m eta \u001b[36m0:00:00\u001b[0m\n",
            "\u001b[?25hInstalling collected packages: gurobipy\n",
            "Successfully installed gurobipy-12.0.1\n"
          ]
        }
      ]
    },
    {
      "cell_type": "code",
      "source": [
        "from gurobipy import Model, GRB\n",
        "\n",
        "# Create a new Gurobi model\n",
        "model = Model(\"Simplex_Algorithm\")\n",
        "\n",
        "# Define decision variables (x1 and x2) - Continuous and non-negative\n",
        "x1 = model.addVar(lb=0, vtype=GRB.CONTINUOUS, name=\"x1\")\n",
        "x2 = model.addVar(lb=0, vtype=GRB.CONTINUOUS, name=\"x2\")\n",
        "\n",
        "# Update the model to integrate new variables\n",
        "model.update()\n",
        "\n",
        "# Set the objective function: Maximize Z = 3x1 + 5x2\n",
        "model.setObjective(3*x1 + 5*x2, GRB.MAXIMIZE)\n",
        "\n",
        "# Add constraints\n",
        "model.addConstr(x1 + 2*x2 <= 4, \"Constraint_1\")\n",
        "model.addConstr(3*x1 + 2*x2 <= 6, \"Constraint_2\")\n",
        "\n",
        "# Optimize the model\n",
        "model.optimize()\n",
        "\n",
        "# Display the results\n",
        "if model.status == GRB.OPTIMAL:\n",
        "    print(f\"Optimal Solution: x1 = {x1.x}, x2 = {x2.x}\")\n",
        "    print(f\"Maximum Z = {model.objVal}\")\n",
        "else:\n",
        "    print(\"No optimal solution found.\")\n"
      ],
      "metadata": {
        "colab": {
          "base_uri": "https://localhost:8080/"
        },
        "id": "UqoR0rhdEqhv",
        "outputId": "c1da8c46-9f98-4902-c4a2-f1a3d8e60453"
      },
      "execution_count": 3,
      "outputs": [
        {
          "output_type": "stream",
          "name": "stdout",
          "text": [
            "Gurobi Optimizer version 12.0.1 build v12.0.1rc0 (linux64 - \"Ubuntu 22.04.4 LTS\")\n",
            "\n",
            "CPU model: Intel(R) Xeon(R) CPU @ 2.20GHz, instruction set [SSE2|AVX|AVX2]\n",
            "Thread count: 1 physical cores, 2 logical processors, using up to 2 threads\n",
            "\n",
            "Optimize a model with 2 rows, 2 columns and 4 nonzeros\n",
            "Model fingerprint: 0x6eac4b22\n",
            "Coefficient statistics:\n",
            "  Matrix range     [1e+00, 3e+00]\n",
            "  Objective range  [3e+00, 5e+00]\n",
            "  Bounds range     [0e+00, 0e+00]\n",
            "  RHS range        [4e+00, 6e+00]\n",
            "Presolve time: 0.01s\n",
            "Presolved: 2 rows, 2 columns, 4 nonzeros\n",
            "\n",
            "Iteration    Objective       Primal Inf.    Dual Inf.      Time\n",
            "       0    8.0000000e+30   2.750000e+30   8.000000e+00      0s\n",
            "       2    1.0500000e+01   0.000000e+00   0.000000e+00      0s\n",
            "\n",
            "Solved in 2 iterations and 0.01 seconds (0.00 work units)\n",
            "Optimal objective  1.050000000e+01\n",
            "Optimal Solution: x1 = 1.0, x2 = 1.5\n",
            "Maximum Z = 10.5\n"
          ]
        }
      ]
    },
    {
      "cell_type": "markdown",
      "source": [
        "Final Output:\n",
        "\n",
        "x1=1.0\n",
        "\n",
        "x2=1.5\n",
        "\n",
        "Maximum Z = 10.5"
      ],
      "metadata": {
        "id": "ULsztzvsFrjM"
      }
    }
  ]
}